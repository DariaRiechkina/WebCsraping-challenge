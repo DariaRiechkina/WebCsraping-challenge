{
 "cells": [
  {
   "cell_type": "code",
   "execution_count": 59,
   "metadata": {},
   "outputs": [],
   "source": [
    "from bs4 import BeautifulSoup\n",
    "from splinter import Browser\n",
    "import pprint\n",
    "\n"
   ]
  },
  {
   "cell_type": "code",
   "execution_count": 60,
   "metadata": {},
   "outputs": [
    {
     "name": "stderr",
     "output_type": "stream",
     "text": [
      "The chromedriver version (118.0.5993.70) detected in PATH at /usr/local/bin/chromedriver might not be compatible with the detected chrome version (119.0.6045.105); currently, chromedriver 119.0.6045.105 is recommended for chrome 119.*, so it is advised to delete the driver in PATH and retry\n"
     ]
    }
   ],
   "source": [
    " executable_path = {'executable_path': '/usr/local/bin/chromedriver'}\n",
    "\n",
    "browser = Browser(\"chrome\")"
   ]
  },
  {
   "cell_type": "code",
   "execution_count": 61,
   "metadata": {},
   "outputs": [],
   "source": [
    "url = 'https://static.bc-edx.com/data/web/mars_news/index.html'\n",
    "browser.visit(url)"
   ]
  },
  {
   "cell_type": "code",
   "execution_count": 62,
   "metadata": {},
   "outputs": [],
   "source": [
    "# Create a Beautiful Soup object\n",
    "html_content = browser.html\n",
    "soup = BeautifulSoup(html_content, 'html.parser')\n"
   ]
  },
  {
   "cell_type": "code",
   "execution_count": 64,
   "metadata": {},
   "outputs": [],
   "source": [
    "# Extract all the text elements\n",
    "list_text_divs = soup.find_all('div', class_='list_text')"
   ]
  },
  {
   "cell_type": "code",
   "execution_count": 65,
   "metadata": {},
   "outputs": [],
   "source": [
    "# Create an empty list to store the dictionaries\n",
    "list = []\n"
   ]
  },
  {
   "cell_type": "code",
   "execution_count": 66,
   "metadata": {},
   "outputs": [],
   "source": [
    "# Loop through the text elements\n",
    "# Extract the title and preview text from the elements\n",
    "# Store each title and preview pair in a dictionary\n",
    "# Add the dictionary to the list\n",
    "for div in list_text_divs:\n",
    "    title = div.find('div', class_='content_title').text\n",
    "    teaser = div.find('div', class_='article_teaser_body').text\n",
    "\n",
    "    # print(\"Title:\", title)\n",
    "    # print(\"Teaser:\", teaser)\n",
    "\n",
    "    list.append({'title': title, 'preview': teaser})\n",
    "\n"
   ]
  },
  {
   "cell_type": "code",
   "execution_count": 67,
   "metadata": {},
   "outputs": [
    {
     "name": "stdout",
     "output_type": "stream",
     "text": [
      "[{'preview': 'For the first time in its eight years orbiting Mars, NASA’s '\n",
      "             'MAVEN mission witnessed two different types of ultraviolet '\n",
      "             'aurorae simultaneously, the result of solar storms that began on '\n",
      "             'Aug. 27.',\n",
      "  'title': \"NASA's MAVEN Observes Martian Light Show Caused by Major Solar \"\n",
      "           'Storm'},\n",
      " {'preview': 'A closer look at what goes into wrapping up the mission as the '\n",
      "             'spacecraft’s power supply continues to dwindle.',\n",
      "  'title': \"NASA Prepares to Say 'Farewell' to InSight Spacecraft\"},\n",
      " {'preview': 'The agency’s Perseverance rover will establish the first sample '\n",
      "             'depot on Mars.',\n",
      "  'title': 'NASA and ESA Agree on Next Steps to Return Mars Samples to Earth'},\n",
      " {'preview': 'The agency’s lander felt the ground shake during the impact '\n",
      "             'while cameras aboard the Mars Reconnaissance Orbiter spotted the '\n",
      "             'yawning new crater from space.',\n",
      "  'title': \"NASA's InSight Lander Detects Stunning Meteoroid Impact on Mars\"},\n",
      " {'preview': 'Scientists from two Mars missions will discuss how they combined '\n",
      "             'images and data for a major finding on the Red Planet.',\n",
      "  'title': 'NASA To Host Briefing on InSight, Mars Reconnaissance Orbiter '\n",
      "           'Findings'},\n",
      " {'preview': 'Like a car’s crumple zone, the experimental SHIELD lander is '\n",
      "             'designed to absorb a hard impact.',\n",
      "  'title': 'Why NASA Is Trying To Crash Land on Mars'},\n",
      " {'preview': 'After years of climbing, the Mars rover has arrived at a special '\n",
      "             'region believed to have formed as Mars’ climate was drying.',\n",
      "  'title': 'Curiosity Mars Rover Reaches Long-Awaited Salty Region'},\n",
      " {'preview': 'Protecting Mars Sample Return spacecraft from micrometeorites '\n",
      "             'requires high-caliber work.',\n",
      "  'title': 'Mars Mission Shields Up for Tests'},\n",
      " {'preview': 'InSight’s team is taking steps to help the solar-powered lander '\n",
      "             'continue operating for as long as possible.',\n",
      "  'title': \"NASA's InSight Waits Out Dust Storm\"},\n",
      " {'preview': 'The Mars lander’s seismometer has picked up vibrations from four '\n",
      "             'separate impacts in the past two years.',\n",
      "  'title': \"NASA's InSight 'Hears' Its First Meteoroid Impacts on Mars\"},\n",
      " {'preview': 'The latest findings provide greater detail on a region of the '\n",
      "             'Red Planet that has a watery past and is yielding promising '\n",
      "             'samples for the NASA-ESA Mars Sample Return campaign.',\n",
      "  'title': \"NASA's Perseverance Rover Investigates Geologically Rich Mars \"\n",
      "           'Terrain'},\n",
      " {'preview': 'Members of the mission will discuss the rover’s activities as it '\n",
      "             'gathers samples in an ancient river delta.',\n",
      "  'title': 'NASA to Host Briefing on Perseverance Mars Rover Mission '\n",
      "           'Operations'},\n",
      " {'preview': 'The rover found that Jezero Crater’s floor is made up of '\n",
      "             'volcanic rocks that have interacted with water.',\n",
      "  'title': \"NASA's Perseverance Makes New Discoveries in Mars' Jezero Crater\"},\n",
      " {'preview': 'Despite signs of wear, the intrepid spacecraft is about to start '\n",
      "             'an exciting new chapter of its mission as it climbs a Martian '\n",
      "             'mountain.',\n",
      "  'title': \"10 Years Since Landing, NASA's Curiosity Mars Rover Still Has \"\n",
      "           'Drive'},\n",
      " {'preview': '“Selfie” of the Curiosity rover with inset showing the SAM '\n",
      "             'instrument prior to installation on the rover.',\n",
      "  'title': \"SAM's Top 5 Discoveries Aboard NASA's Curiosity Rover at Mars\"}]\n"
     ]
    }
   ],
   "source": [
    "# Print the list to confirm success\n",
    "pprint.pprint(list)"
   ]
  },
  {
   "cell_type": "code",
   "execution_count": 68,
   "metadata": {},
   "outputs": [],
   "source": [
    "# quit the browser\n",
    "\n",
    "browser.quit()"
   ]
  }
 ],
 "metadata": {
  "kernelspec": {
   "display_name": "dev",
   "language": "python",
   "name": "python3"
  },
  "language_info": {
   "codemirror_mode": {
    "name": "ipython",
    "version": 3
   },
   "file_extension": ".py",
   "mimetype": "text/x-python",
   "name": "python",
   "nbconvert_exporter": "python",
   "pygments_lexer": "ipython3",
   "version": "3.10.12"
  },
  "orig_nbformat": 4
 },
 "nbformat": 4,
 "nbformat_minor": 2
}
